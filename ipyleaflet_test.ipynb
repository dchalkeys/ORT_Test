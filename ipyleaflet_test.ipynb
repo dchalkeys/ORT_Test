{
 "cells": [
  {
   "cell_type": "markdown",
   "id": "31dcfc35-c113-4e6b-8c01-09d2cf271cac",
   "metadata": {},
   "source": [
    "# Generate Marker with Coordinates in Popup with User Click"
   ]
  },
  {
   "cell_type": "markdown",
   "id": "981d5b53-3886-4d5f-9c25-0379aa1b99ed",
   "metadata": {},
   "source": [
    "### Imports"
   ]
  },
  {
   "cell_type": "code",
   "execution_count": null,
   "id": "d1cd25dd-9828-43e1-9677-fc24facbcbbb",
   "metadata": {},
   "outputs": [],
   "source": [
    "import ipyleaflet\n",
    "import geopandas as gpd\n",
    "import matplotlib.pyplot as plt\n",
    "import mplleaflet\n",
    "import pandas as pd\n",
    "import base64\n",
    "import folium\n",
    "from shapely import Point\n",
    "import altair\n",
    "import ipywidgets\n",
    "from ipywidgets import HTML\n",
    "\n"
   ]
  },
  {
   "cell_type": "code",
   "execution_count": null,
   "id": "313cf8e1-dacb-4ed0-9f04-1ac3005006b6",
   "metadata": {},
   "outputs": [],
   "source": [
    "gdf = gpd.read_parquet(\"full_data.parquet\")\n",
    "\n",
    "m = ipyleaflet.Map()\n",
    "\n",
    "def handle_click(**kwargs):\n",
    "    if kwargs.get('type') == 'click':\n",
    "        coords = kwargs.get('coordinates')\n",
    "        lat = coords[0]\n",
    "        lon = coords[1]\n",
    "        popup_content = HTML(f\"Latitude: {lat}<br>Longitude: {lon}\")\n",
    "        marker = ipyleaflet.Marker(location=kwargs.get('coordinates'), popup=ipyleaflet.Popup(child = popup_content))\n",
    "        m.add_layer(marker)\n",
    "\n",
    "\n",
    "m.on_interaction(handle_click)\n",
    "\n",
    "m"
   ]
  }
 ],
 "metadata": {
  "kernelspec": {
   "display_name": "Python 3 (ipykernel)",
   "language": "python",
   "name": "python3"
  },
  "language_info": {
   "codemirror_mode": {
    "name": "ipython",
    "version": 3
   },
   "file_extension": ".py",
   "mimetype": "text/x-python",
   "name": "python",
   "nbconvert_exporter": "python",
   "pygments_lexer": "ipython3",
   "version": "3.10.12"
  }
 },
 "nbformat": 4,
 "nbformat_minor": 5
}
