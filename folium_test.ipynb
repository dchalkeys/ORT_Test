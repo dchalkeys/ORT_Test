{
 "cells": [
  {
   "cell_type": "markdown",
   "id": "9fd98109-cf83-4bdd-8dfe-0a0d9f2065a4",
   "metadata": {},
   "source": [
    "# Generate Time Series Plot Popup from Test Coordinates"
   ]
  },
  {
   "cell_type": "markdown",
   "id": "f81ffa08-b085-4425-8619-57b4c5c3e85e",
   "metadata": {},
   "source": [
    "## Imports"
   ]
  },
  {
   "cell_type": "code",
   "execution_count": 17,
   "id": "058f48e9-cf7a-47c6-9d9c-b08b2ff0dd1f",
   "metadata": {},
   "outputs": [
    {
     "data": {
      "text/html": [
       "<div>\n",
       "<style scoped>\n",
       "    .dataframe tbody tr th:only-of-type {\n",
       "        vertical-align: middle;\n",
       "    }\n",
       "\n",
       "    .dataframe tbody tr th {\n",
       "        vertical-align: top;\n",
       "    }\n",
       "\n",
       "    .dataframe thead th {\n",
       "        text-align: right;\n",
       "    }\n",
       "</style>\n",
       "<table border=\"1\" class=\"dataframe\">\n",
       "  <thead>\n",
       "    <tr style=\"text-align: right;\">\n",
       "      <th></th>\n",
       "      <th>sd</th>\n",
       "      <th>time</th>\n",
       "      <th>geometry</th>\n",
       "    </tr>\n",
       "  </thead>\n",
       "  <tbody>\n",
       "    <tr>\n",
       "      <th>320906</th>\n",
       "      <td>0.127569</td>\n",
       "      <td>2022-12-29 12:00:00</td>\n",
       "      <td>POINT (50.60000 81.10000)</td>\n",
       "    </tr>\n",
       "    <tr>\n",
       "      <th>6804506</th>\n",
       "      <td>0.128180</td>\n",
       "      <td>2022-12-30 12:00:00</td>\n",
       "      <td>POINT (50.60000 81.10000)</td>\n",
       "    </tr>\n",
       "    <tr>\n",
       "      <th>13288106</th>\n",
       "      <td>0.130774</td>\n",
       "      <td>2022-12-31 12:00:00</td>\n",
       "      <td>POINT (50.60000 81.10000)</td>\n",
       "    </tr>\n",
       "  </tbody>\n",
       "</table>\n",
       "</div>"
      ],
      "text/plain": [
       "                sd                time                   geometry\n",
       "320906    0.127569 2022-12-29 12:00:00  POINT (50.60000 81.10000)\n",
       "6804506   0.128180 2022-12-30 12:00:00  POINT (50.60000 81.10000)\n",
       "13288106  0.130774 2022-12-31 12:00:00  POINT (50.60000 81.10000)"
      ]
     },
     "execution_count": 17,
     "metadata": {},
     "output_type": "execute_result"
    }
   ],
   "source": [
    "import geopandas as gpd\n",
    "import matplotlib.pyplot as plt\n",
    "import mplleaflet\n",
    "import pandas as pd\n",
    "import base64\n",
    "from folium import IFrame\n",
    "import folium"
   ]
  },
  {
   "cell_type": "markdown",
   "id": "5a9b7c6b-a335-4313-aef4-5c1175a78dbe",
   "metadata": {},
   "source": [
    "### Declare Test Coordinates to Point and Retrieve Time Series"
   ]
  },
  {
   "cell_type": "code",
   "execution_count": null,
   "id": "95b2b3a1-50de-4907-a8bb-84b71de9d11f",
   "metadata": {},
   "outputs": [],
   "source": [
    "# Good snowfall spot\n",
    "event = Point((48.7767, 121.8144))\n",
    "\n",
    "clicked_point = Point(event.x, event.y)\n",
    "\n",
    "point_dist = gdf.distance(clicked_point)\n",
    "closest_points = gdf[point_dist==point_dist.min()]\n",
    "\n",
    "closest_points\n"
   ]
  },
  {
   "cell_type": "markdown",
   "id": "42076fbe-15d8-4c89-8843-e036c3be0d5f",
   "metadata": {},
   "source": [
    "### Declare Chart Properties and Create Time Series Plot"
   ]
  },
  {
   "cell_type": "code",
   "execution_count": 18,
   "id": "ec17e0cd-7c16-496b-b411-8be5eba69629",
   "metadata": {},
   "outputs": [
    {
     "data": {
      "text/html": [
       "\n",
       "<style>\n",
       "  #altair-viz-ddb3098ef13d4f27ae9b970d9faa2695.vega-embed {\n",
       "    width: 100%;\n",
       "    display: flex;\n",
       "  }\n",
       "\n",
       "  #altair-viz-ddb3098ef13d4f27ae9b970d9faa2695.vega-embed details,\n",
       "  #altair-viz-ddb3098ef13d4f27ae9b970d9faa2695.vega-embed details summary {\n",
       "    position: relative;\n",
       "  }\n",
       "</style>\n",
       "<div id=\"altair-viz-ddb3098ef13d4f27ae9b970d9faa2695\"></div>\n",
       "<script type=\"text/javascript\">\n",
       "  var VEGA_DEBUG = (typeof VEGA_DEBUG == \"undefined\") ? {} : VEGA_DEBUG;\n",
       "  (function(spec, embedOpt){\n",
       "    let outputDiv = document.currentScript.previousElementSibling;\n",
       "    if (outputDiv.id !== \"altair-viz-ddb3098ef13d4f27ae9b970d9faa2695\") {\n",
       "      outputDiv = document.getElementById(\"altair-viz-ddb3098ef13d4f27ae9b970d9faa2695\");\n",
       "    }\n",
       "    const paths = {\n",
       "      \"vega\": \"https://cdn.jsdelivr.net/npm/vega@5?noext\",\n",
       "      \"vega-lib\": \"https://cdn.jsdelivr.net/npm/vega-lib?noext\",\n",
       "      \"vega-lite\": \"https://cdn.jsdelivr.net/npm/vega-lite@5.8.0?noext\",\n",
       "      \"vega-embed\": \"https://cdn.jsdelivr.net/npm/vega-embed@6?noext\",\n",
       "    };\n",
       "\n",
       "    function maybeLoadScript(lib, version) {\n",
       "      var key = `${lib.replace(\"-\", \"\")}_version`;\n",
       "      return (VEGA_DEBUG[key] == version) ?\n",
       "        Promise.resolve(paths[lib]) :\n",
       "        new Promise(function(resolve, reject) {\n",
       "          var s = document.createElement('script');\n",
       "          document.getElementsByTagName(\"head\")[0].appendChild(s);\n",
       "          s.async = true;\n",
       "          s.onload = () => {\n",
       "            VEGA_DEBUG[key] = version;\n",
       "            return resolve(paths[lib]);\n",
       "          };\n",
       "          s.onerror = () => reject(`Error loading script: ${paths[lib]}`);\n",
       "          s.src = paths[lib];\n",
       "        });\n",
       "    }\n",
       "\n",
       "    function showError(err) {\n",
       "      outputDiv.innerHTML = `<div class=\"error\" style=\"color:red;\">${err}</div>`;\n",
       "      throw err;\n",
       "    }\n",
       "\n",
       "    function displayChart(vegaEmbed) {\n",
       "      vegaEmbed(outputDiv, spec, embedOpt)\n",
       "        .catch(err => showError(`Javascript Error: ${err.message}<br>This usually means there's a typo in your chart specification. See the javascript console for the full traceback.`));\n",
       "    }\n",
       "\n",
       "    if(typeof define === \"function\" && define.amd) {\n",
       "      requirejs.config({paths});\n",
       "      require([\"vega-embed\"], displayChart, err => showError(`Error loading script: ${err.message}`));\n",
       "    } else {\n",
       "      maybeLoadScript(\"vega\", \"5\")\n",
       "        .then(() => maybeLoadScript(\"vega-lite\", \"5.8.0\"))\n",
       "        .then(() => maybeLoadScript(\"vega-embed\", \"6\"))\n",
       "        .catch(showError)\n",
       "        .then(() => displayChart(vegaEmbed));\n",
       "    }\n",
       "  })({\"config\": {\"view\": {\"continuousWidth\": 300, \"continuousHeight\": 300}}, \"data\": {\"name\": \"data-73b26a9c17b10a67022931b96806053a\"}, \"mark\": {\"type\": \"line\"}, \"encoding\": {\"x\": {\"field\": \"time\", \"type\": \"temporal\"}, \"y\": {\"field\": \"sd\", \"type\": \"nominal\"}}, \"height\": 200, \"width\": 300, \"$schema\": \"https://vega.github.io/schema/vega-lite/v5.8.0.json\", \"datasets\": {\"data-73b26a9c17b10a67022931b96806053a\": [{\"sd\": 0.12756919860839844, \"time\": \"2022-12-29T12:00:00\", \"type\": \"Feature\", \"geometry\": {\"type\": \"Point\", \"coordinates\": [50.599998474121094, 81.0999984741211]}}, {\"sd\": 0.12817955017089844, \"time\": \"2022-12-30T12:00:00\", \"type\": \"Feature\", \"geometry\": {\"type\": \"Point\", \"coordinates\": [50.599998474121094, 81.0999984741211]}}, {\"sd\": 0.13077402114868164, \"time\": \"2022-12-31T12:00:00\", \"type\": \"Feature\", \"geometry\": {\"type\": \"Point\", \"coordinates\": [50.599998474121094, 81.0999984741211]}}]}}, {\"mode\": \"vega-lite\"});\n",
       "</script>"
      ],
      "text/plain": [
       "alt.Chart(...)"
      ]
     },
     "execution_count": 18,
     "metadata": {},
     "output_type": "execute_result"
    }
   ],
   "source": [
    "\n",
    "width = 300\n",
    "height = 200\n",
    "\n",
    "\n",
    "vega_data = altair.Chart(closest_points, width=width, height=height).mark_line().encode(\n",
    "    x = 'time:T',\n",
    "    y = 'sd:N'\n",
    ")\n",
    "vega_data"
   ]
  },
  {
   "cell_type": "markdown",
   "id": "cb4d71de-d35e-4376-bd11-c1658c986103",
   "metadata": {},
   "source": [
    "### Declare Marker Propertiers and Plot Marker on Map with Popup Time Series Plot"
   ]
  },
  {
   "cell_type": "code",
   "execution_count": 19,
   "id": "c1a4fd94-d694-442e-b4ed-9f3ac9b22927",
   "metadata": {
    "scrolled": true
   },
   "outputs": [
    {
     "data": {
      "text/html": [
       "<div style=\"width:100%;\"><div style=\"position:relative;width:100%;height:0;padding-bottom:60%;\"><span style=\"color:#565656\">Make this Notebook Trusted to load map: File -> Trust Notebook</span><iframe srcdoc=\"&lt;!DOCTYPE html&gt;\n",
       "&lt;html&gt;\n",
       "&lt;head&gt;\n",
       "    \n",
       "    &lt;meta http-equiv=&quot;content-type&quot; content=&quot;text/html; charset=UTF-8&quot; /&gt;\n",
       "    \n",
       "        &lt;script&gt;\n",
       "            L_NO_TOUCH = false;\n",
       "            L_DISABLE_3D = false;\n",
       "        &lt;/script&gt;\n",
       "    \n",
       "    &lt;style&gt;html, body {width: 100%;height: 100%;margin: 0;padding: 0;}&lt;/style&gt;\n",
       "    &lt;style&gt;#map {position:absolute;top:0;bottom:0;right:0;left:0;}&lt;/style&gt;\n",
       "    &lt;script src=&quot;https://cdn.jsdelivr.net/npm/leaflet@1.9.3/dist/leaflet.js&quot;&gt;&lt;/script&gt;\n",
       "    &lt;script src=&quot;https://code.jquery.com/jquery-1.12.4.min.js&quot;&gt;&lt;/script&gt;\n",
       "    &lt;script src=&quot;https://cdn.jsdelivr.net/npm/bootstrap@5.2.2/dist/js/bootstrap.bundle.min.js&quot;&gt;&lt;/script&gt;\n",
       "    &lt;script src=&quot;https://cdnjs.cloudflare.com/ajax/libs/Leaflet.awesome-markers/2.0.2/leaflet.awesome-markers.js&quot;&gt;&lt;/script&gt;\n",
       "    &lt;link rel=&quot;stylesheet&quot; href=&quot;https://cdn.jsdelivr.net/npm/leaflet@1.9.3/dist/leaflet.css&quot;/&gt;\n",
       "    &lt;link rel=&quot;stylesheet&quot; href=&quot;https://cdn.jsdelivr.net/npm/bootstrap@5.2.2/dist/css/bootstrap.min.css&quot;/&gt;\n",
       "    &lt;link rel=&quot;stylesheet&quot; href=&quot;https://netdna.bootstrapcdn.com/bootstrap/3.0.0/css/bootstrap.min.css&quot;/&gt;\n",
       "    &lt;link rel=&quot;stylesheet&quot; href=&quot;https://cdn.jsdelivr.net/npm/@fortawesome/fontawesome-free@6.2.0/css/all.min.css&quot;/&gt;\n",
       "    &lt;link rel=&quot;stylesheet&quot; href=&quot;https://cdnjs.cloudflare.com/ajax/libs/Leaflet.awesome-markers/2.0.2/leaflet.awesome-markers.css&quot;/&gt;\n",
       "    &lt;link rel=&quot;stylesheet&quot; href=&quot;https://cdn.jsdelivr.net/gh/python-visualization/folium/folium/templates/leaflet.awesome.rotate.min.css&quot;/&gt;\n",
       "    \n",
       "            &lt;meta name=&quot;viewport&quot; content=&quot;width=device-width,\n",
       "                initial-scale=1.0, maximum-scale=1.0, user-scalable=no&quot; /&gt;\n",
       "            &lt;style&gt;\n",
       "                #map_120cf945bb9e3cb696abeea75e80e5c9 {\n",
       "                    position: relative;\n",
       "                    width: 100.0%;\n",
       "                    height: 100.0%;\n",
       "                    left: 0.0%;\n",
       "                    top: 0.0%;\n",
       "                }\n",
       "                .leaflet-container { font-size: 1rem; }\n",
       "            &lt;/style&gt;\n",
       "        \n",
       "    \n",
       "            &lt;style&gt; #vega_lite_6bb4178f2499616ea51349c79f028715 {\n",
       "                position : relative;\n",
       "                width : 450.0px;\n",
       "                height: 250.0px;\n",
       "                left: 0.0%;\n",
       "                top: 0.0%;\n",
       "            &lt;/style&gt;\n",
       "            \n",
       "    &lt;script src=&quot;https://cdn.jsdelivr.net/npm//vega@5&quot;&gt;&lt;/script&gt;\n",
       "    &lt;script src=&quot;https://cdn.jsdelivr.net/npm/vega-lite@5&quot;&gt;&lt;/script&gt;\n",
       "    &lt;script src=&quot;https://cdn.jsdelivr.net/npm/vega-embed@6&quot;&gt;&lt;/script&gt;\n",
       "&lt;/head&gt;\n",
       "&lt;body&gt;\n",
       "    \n",
       "    \n",
       "            &lt;div class=&quot;folium-map&quot; id=&quot;map_120cf945bb9e3cb696abeea75e80e5c9&quot; &gt;&lt;/div&gt;\n",
       "        \n",
       "&lt;/body&gt;\n",
       "&lt;script&gt;\n",
       "    \n",
       "    \n",
       "            var map_120cf945bb9e3cb696abeea75e80e5c9 = L.map(\n",
       "                &quot;map_120cf945bb9e3cb696abeea75e80e5c9&quot;,\n",
       "                {\n",
       "                    center: [48.7767, 121.8144],\n",
       "                    crs: L.CRS.EPSG3857,\n",
       "                    zoom: 15,\n",
       "                    zoomControl: true,\n",
       "                    preferCanvas: false,\n",
       "                }\n",
       "            );\n",
       "\n",
       "            \n",
       "\n",
       "        \n",
       "    \n",
       "            var tile_layer_426d3108260433a618297be63de8f865 = L.tileLayer(\n",
       "                &quot;https://{s}.tile.openstreetmap.org/{z}/{x}/{y}.png&quot;,\n",
       "                {&quot;attribution&quot;: &quot;Data by \\u0026copy; \\u003ca target=\\&quot;_blank\\&quot; href=\\&quot;http://openstreetmap.org\\&quot;\\u003eOpenStreetMap\\u003c/a\\u003e, under \\u003ca target=\\&quot;_blank\\&quot; href=\\&quot;http://www.openstreetmap.org/copyright\\&quot;\\u003eODbL\\u003c/a\\u003e.&quot;, &quot;detectRetina&quot;: false, &quot;maxNativeZoom&quot;: 18, &quot;maxZoom&quot;: 18, &quot;minZoom&quot;: 0, &quot;noWrap&quot;: false, &quot;opacity&quot;: 1, &quot;subdomains&quot;: &quot;abc&quot;, &quot;tms&quot;: false}\n",
       "            ).addTo(map_120cf945bb9e3cb696abeea75e80e5c9);\n",
       "        \n",
       "    \n",
       "            var marker_a580b0e511df5c2f3c2a0d974c317bf2 = L.marker(\n",
       "                [48.7767, 121.8144],\n",
       "                {}\n",
       "            ).addTo(map_120cf945bb9e3cb696abeea75e80e5c9);\n",
       "        \n",
       "    \n",
       "        var popup_51e831ba1dbfa5e8f0a9a37ab8303bff = L.popup({&quot;maxWidth&quot;: 450});\n",
       "\n",
       "        \n",
       "            \n",
       "                var vega_lite_6bb4178f2499616ea51349c79f028715 = $(`             &lt;div id=&quot;vega_lite_6bb4178f2499616ea51349c79f028715&quot;&gt;&lt;/div&gt;             `)[0];\n",
       "                popup_51e831ba1dbfa5e8f0a9a37ab8303bff.setContent(vega_lite_6bb4178f2499616ea51349c79f028715);\n",
       "            \n",
       "        \n",
       "\n",
       "        marker_a580b0e511df5c2f3c2a0d974c317bf2.bindPopup(popup_51e831ba1dbfa5e8f0a9a37ab8303bff)\n",
       "        ;\n",
       "\n",
       "        \n",
       "            \n",
       "                    vegaEmbed(vega_lite_6bb4178f2499616ea51349c79f028715, {&quot;$schema&quot;: &quot;https://vega.github.io/schema/vega-lite/v5.8.0.json&quot;, &quot;config&quot;: {&quot;view&quot;: {&quot;continuousHeight&quot;: 300, &quot;continuousWidth&quot;: 300}}, &quot;data&quot;: {&quot;name&quot;: &quot;data-73b26a9c17b10a67022931b96806053a&quot;}, &quot;datasets&quot;: {&quot;data-73b26a9c17b10a67022931b96806053a&quot;: [{&quot;geometry&quot;: {&quot;coordinates&quot;: [50.599998474121094, 81.0999984741211], &quot;type&quot;: &quot;Point&quot;}, &quot;sd&quot;: 0.12756919860839844, &quot;time&quot;: &quot;2022-12-29T12:00:00&quot;, &quot;type&quot;: &quot;Feature&quot;}, {&quot;geometry&quot;: {&quot;coordinates&quot;: [50.599998474121094, 81.0999984741211], &quot;type&quot;: &quot;Point&quot;}, &quot;sd&quot;: 0.12817955017089844, &quot;time&quot;: &quot;2022-12-30T12:00:00&quot;, &quot;type&quot;: &quot;Feature&quot;}, {&quot;geometry&quot;: {&quot;coordinates&quot;: [50.599998474121094, 81.0999984741211], &quot;type&quot;: &quot;Point&quot;}, &quot;sd&quot;: 0.13077402114868164, &quot;time&quot;: &quot;2022-12-31T12:00:00&quot;, &quot;type&quot;: &quot;Feature&quot;}]}, &quot;encoding&quot;: {&quot;x&quot;: {&quot;field&quot;: &quot;time&quot;, &quot;type&quot;: &quot;temporal&quot;}, &quot;y&quot;: {&quot;field&quot;: &quot;sd&quot;, &quot;type&quot;: &quot;nominal&quot;}}, &quot;height&quot;: 200, &quot;mark&quot;: {&quot;type&quot;: &quot;line&quot;}, &quot;width&quot;: 300})\n",
       "                        .then(function(result) {})\n",
       "                        .catch(console.error);\n",
       "                \n",
       "        \n",
       "    \n",
       "&lt;/script&gt;\n",
       "&lt;/html&gt;\" style=\"position:absolute;width:100%;height:100%;left:0;top:0;border:none !important;\" allowfullscreen webkitallowfullscreen mozallowfullscreen></iframe></div></div>"
      ],
      "text/plain": [
       "<folium.folium.Map at 0x7f94f8d1c2b0>"
      ]
     },
     "execution_count": 19,
     "metadata": {},
     "output_type": "execute_result"
    }
   ],
   "source": [
    "\n",
    "lat = event.x\n",
    "lon = event.y\n",
    "\n",
    "m = folium.Map(location=[lat, lon], zoom_start=15)\n",
    "\n",
    "marker = folium.Marker(\n",
    "    location=[lat, lon],\n",
    "    popup=folium.Popup(max_width=450).add_child(\n",
    "        folium.VegaLite(vega_data, width=450, height=250)\n",
    "    ),\n",
    ")\n",
    "\n",
    "marker.add_to(m)\n",
    "\n",
    "m"
   ]
  }
 ],
 "metadata": {
  "kernelspec": {
   "display_name": "Python 3 (ipykernel)",
   "language": "python",
   "name": "python3"
  },
  "language_info": {
   "codemirror_mode": {
    "name": "ipython",
    "version": 3
   },
   "file_extension": ".py",
   "mimetype": "text/x-python",
   "name": "python",
   "nbconvert_exporter": "python",
   "pygments_lexer": "ipython3",
   "version": "3.10.12"
  }
 },
 "nbformat": 4,
 "nbformat_minor": 5
}
