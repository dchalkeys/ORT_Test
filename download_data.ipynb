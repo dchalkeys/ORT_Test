{
 "cells": [
  {
   "cell_type": "code",
   "execution_count": null,
   "id": "a2b44ff6-b08d-49f5-98a0-e7478479d0f3",
   "metadata": {},
   "outputs": [],
   "source": [
    "import cdsapi\n",
    "\n",
    "c = cdsapi.Client()\n",
    "\n",
    "c.retrieve(\n",
    "    'reanalysis-era5-land',\n",
    "    {\n",
    "        'variable': 'snow_depth_water_equivalent',\n",
    "        'year': '2022',\n",
    "        'time': ['12:00'],\n",
    "        'day': [\n",
    "            '29',\n",
    "            '30',\n",
    "            '31',\n",
    "        ],\n",
    "        'month': '12',\n",
    "        'format': 'netcdf',\n",
    "    },\n",
    "    'download_Xsmall.nc')"
   ]
  }
 ],
 "metadata": {
  "kernelspec": {
   "display_name": "Python 3 (ipykernel)",
   "language": "python",
   "name": "python3"
  },
  "language_info": {
   "codemirror_mode": {
    "name": "ipython",
    "version": 3
   },
   "file_extension": ".py",
   "mimetype": "text/x-python",
   "name": "python",
   "nbconvert_exporter": "python",
   "pygments_lexer": "ipython3",
   "version": "3.10.12"
  }
 },
 "nbformat": 4,
 "nbformat_minor": 5
}
